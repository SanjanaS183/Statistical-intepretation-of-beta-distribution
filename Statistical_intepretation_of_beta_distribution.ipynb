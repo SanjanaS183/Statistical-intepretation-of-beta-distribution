{
  "nbformat": 4,
  "nbformat_minor": 0,
  "metadata": {
    "colab": {
      "provenance": [],
      "authorship_tag": "ABX9TyNA6iMYtAMmvQ0H733y5Vrg",
      "include_colab_link": true
    },
    "kernelspec": {
      "name": "python3",
      "display_name": "Python 3"
    },
    "language_info": {
      "name": "python"
    }
  },
  "cells": [
    {
      "cell_type": "markdown",
      "metadata": {
        "id": "view-in-github",
        "colab_type": "text"
      },
      "source": [
        "<a href=\"https://colab.research.google.com/github/SanjanaS183/Statistical-intepretation-of-beta-distribution/blob/main/Statistical_intepretation_of_beta_distribution.ipynb\" target=\"_parent\"><img src=\"https://colab.research.google.com/assets/colab-badge.svg\" alt=\"Open In Colab\"/></a>"
      ]
    },
    {
      "cell_type": "code",
      "source": [
        "from scipy.stats import beta\n",
        "import matplotlib.pyplot as plt\n",
        "import numpy as np"
      ],
      "metadata": {
        "id": "RCx84wHT_iiI"
      },
      "execution_count": null,
      "outputs": []
    },
    {
      "cell_type": "code",
      "source": [
        "def beta_measure(x,y):\n",
        " prob_m = beta.cdf(y, a=3, b=7)- beta.cdf(x,a=3,b=7)\n",
        " return prob_m"
      ],
      "metadata": {
        "id": "O8oNdmnCXvpH"
      },
      "execution_count": null,
      "outputs": []
    },
    {
      "cell_type": "code",
      "source": [
        "print(\"Probabilty mass between various intervals:\")\n",
        "z1 = beta_measure(0,1)\n",
        "print(\"0-1:\",z1)\n",
        "z2 = beta_measure(0,0)\n",
        "print(\"0-0:\",z2)\n",
        "z3 = beta_measure(0.25,0.75)\n",
        "print(\"0.25-0.75:\",z3)\n",
        "z4 = beta_measure(0,0.5)\n",
        "print(\"0-0.5:\",z4)\n",
        "z5 = beta_measure(0.5,1)\n",
        "print(\"0.5-1:\",z5)\n",
        "x = np.linspace(0,1,100)\n",
        "y = beta.pdf(x,3,7)\n",
        "\n",
        "fig, (ax1) = plt.subplots(1)\n",
        "ax1.plot(x,y,'b')\n",
        "ax1.set_title(\"Density of Beta\")\n"
      ],
      "metadata": {
        "colab": {
          "base_uri": "https://localhost:8080/",
          "height": 403
        },
        "id": "OF3qDRj7kBJH",
        "outputId": "3270c700-10ed-405b-b300-e9038f425ab1"
      },
      "execution_count": null,
      "outputs": [
        {
          "output_type": "stream",
          "name": "stdout",
          "text": [
            "Probabilty mass between various intervals:\n",
            "0-1: 1.0\n",
            "0-0: 0.0\n",
            "0.25-0.75: 0.599334716796875\n",
            "0-0.5: 0.91015625\n",
            "0.5-1: 0.08984375\n"
          ]
        },
        {
          "output_type": "execute_result",
          "data": {
            "text/plain": [
              "Text(0.5, 1.0, 'Density of Beta')"
            ]
          },
          "metadata": {},
          "execution_count": 3
        },
        {
          "output_type": "display_data",
          "data": {
            "text/plain": [
              "<Figure size 432x288 with 1 Axes>"
            ],
            "image/png": "[encoded data removed]"
          },
          "metadata": {
            "needs_background": "light"
          }
        }
      ]
    },
    {
      "cell_type": "code",
      "source": [
        "def beta_pdf(x,a,b):\n",
        " y = beta.pdf(x,a,b)\n",
        " return y"
      ],
      "metadata": {
        "id": "S84GGmRQTcv-"
      },
      "execution_count": null,
      "outputs": []
    },
    {
      "cell_type": "code",
      "source": [
        "from scipy import integrate\n",
        "x2 = lambda x: beta_pdf(x,3,7)\n",
        "print(\"Integration under various limits:\")\n",
        "i = integrate.quad(x2,0,1)\n",
        "print(i)\n",
        "i = integrate.quad(x2,0,0)\n",
        "print(i)\n",
        "i = integrate.quad(x2,1/4,3/4)\n",
        "print(i)\n",
        "i = integrate.quad(x2,0,1/2)\n",
        "print(i)\n",
        "i = integrate.quad(x2,1/2,1)\n",
        "print(i)"
      ],
      "metadata": {
        "colab": {
          "base_uri": "https://localhost:8080/"
        },
        "id": "OMBK3WFqh6HJ",
        "outputId": "6ff34a8a-e4bb-42e6-aa00-c66f1f0384ab"
      },
      "execution_count": null,
      "outputs": [
        {
          "output_type": "stream",
          "name": "stdout",
          "text": [
            "Integration under various limits:\n",
            "(1.0, 1.1102230246251565e-14)\n",
            "(0.0, 0.0)\n",
            "(0.5993347167968751, 6.653952020450883e-15)\n",
            "(0.9101562499999999, 1.01047642475649e-14)\n",
            "(0.08984374999999997, 9.974659986866637e-16)\n"
          ]
        }
      ]
    },
    {
      "cell_type": "code",
      "source": [
        "def pdf_intg(x,a,b):\n",
        " c = lambda x: np.convolve(beta_pdf (x,3,7) , beta_pdf (x,7,3))\n",
        " i = integrate.quad( c,-np.inf, np.inf)\n",
        " return i"
      ],
      "metadata": {
        "id": "opEXrQF5S5C1"
      },
      "execution_count": null,
      "outputs": []
    },
    {
      "cell_type": "code",
      "source": [
        "z1 =pdf_intg(x,3,7)\n",
        "z2= pdf_intg(x,7,3)\n",
        "z3 = z1 + z2\n",
        "print(z3)"
      ],
      "metadata": {
        "colab": {
          "base_uri": "https://localhost:8080/"
        },
        "id": "z9Dlg2AdqEEA",
        "outputId": "3ccd8f8e-0a7f-4674-f9a3-067f57078fae"
      },
      "execution_count": null,
      "outputs": [
        {
          "output_type": "stream",
          "name": "stdout",
          "text": [
            "(0.2902509255450433, 1.7926115427119955e-09, 0.2902509255450433, 1.7926115427119955e-09)\n"
          ]
        }
      ]
    },
    {
      "cell_type": "code",
      "source": [
        "def pdf_intg_2(t,x):\n",
        "  return beta.pdf(x,a,b)* beta.pdf(t-x,b,a)"
      ],
      "metadata": {
        "id": "BYNLhcP7VXi6"
      },
      "execution_count": null,
      "outputs": []
    },
    {
      "cell_type": "code",
      "source": [
        "import seaborn as sns\n",
        "a =3\n",
        "b = 7\n",
        "x = np.linspace(0,1,100)\n",
        "pdf_arr=[]\n",
        "for i in x:\n",
        "  pdf_arr.append(integrate.quad(pdf_intg_2, -np.inf, np.inf, args = (i, )))\n",
        "\n",
        "sns.distplot(pdf_arr)\n",
        "  "
      ],
      "metadata": {
        "colab": {
          "base_uri": "https://localhost:8080/",
          "height": 337
        },
        "id": "33jltaOThErl",
        "outputId": "e0617e21-14cc-45b9-985e-4d2a5798dc5e"
      },
      "execution_count": null,
      "outputs": [
        {
          "output_type": "stream",
          "name": "stderr",
          "text": [
            "/usr/local/lib/python3.7/dist-packages/seaborn/distributions.py:2619: FutureWarning: `distplot` is a deprecated function and will be removed in a future version. Please adapt your code to use either `displot` (a figure-level function with similar flexibility) or `histplot` (an axes-level function for histograms).\n",
            "  warnings.warn(msg, FutureWarning)\n"
          ]
        },
        {
          "output_type": "execute_result",
          "data": {
            "text/plain": [
              "<matplotlib.axes._subplots.AxesSubplot at 0x7f2636cc2290>"
            ]
          },
          "metadata": {},
          "execution_count": 9
        },
        {
          "output_type": "display_data",
          "data": {
            "text/plain": [
              "<Figure size 432x288 with 1 Axes>"
            ],
            "image/png": "[encoded data removed]"
          },
          "metadata": {
            "needs_background": "light"
          }
        }
      ]
    },
    {
      "cell_type": "code",
      "source": [
        "u= np.random.beta(3, 7, size=10000)\n",
        "v= np.random.beta(3, 7, size=10000)\n",
        "w = u+v\n",
        "sns.distplot(w)"
      ],
      "metadata": {
        "id": "C2mL4jW1c4vA",
        "colab": {
          "base_uri": "https://localhost:8080/",
          "height": 337
        },
        "outputId": "e520be72-d09b-4dd0-f713-0044e3713d2c"
      },
      "execution_count": null,
      "outputs": [
        {
          "output_type": "stream",
          "name": "stderr",
          "text": [
            "/usr/local/lib/python3.7/dist-packages/seaborn/distributions.py:2619: FutureWarning: `distplot` is a deprecated function and will be removed in a future version. Please adapt your code to use either `displot` (a figure-level function with similar flexibility) or `histplot` (an axes-level function for histograms).\n",
            "  warnings.warn(msg, FutureWarning)\n"
          ]
        },
        {
          "output_type": "execute_result",
          "data": {
            "text/plain": [
              "<matplotlib.axes._subplots.AxesSubplot at 0x7f26387bc3d0>"
            ]
          },
          "metadata": {},
          "execution_count": 10
        },
        {
          "output_type": "display_data",
          "data": {
            "text/plain": [
              "<Figure size 432x288 with 1 Axes>"
            ],
            "image/png": "[encoded data removed]"
          },
          "metadata": {
            "needs_background": "light"
          }
        }
      ]
    }
  ]
}